{
 "cells": [
  {
   "cell_type": "markdown",
   "metadata": {},
   "source": [
    "Server: \n",
    "\n",
    "Cung cấp danh sách các dịch vụ: \n",
    "\n",
    "Đảo ngược chuỗi đồng thời in hoa ký tự đầu của mỗi từ \n",
    "\n",
    "Tính tổng chuỗi các số nguyên (Client nhập chuỗi các số nguyên) \n",
    "\n",
    "Thoát \n",
    "\n",
    "Server có thể xử lý đồng thời yêu cầu từ nhiều client. \n",
    "\n",
    "Tính tổng các số nguyên (Client nhập chuỗi các số nguyên, cách nhau bởi khoảng trắng)"
   ]
  },
  {
   "cell_type": "code",
   "execution_count": 1,
   "metadata": {},
   "outputs": [
    {
     "name": "stdout",
     "output_type": "stream",
     "text": [
      "Server đang lắng nghe...\n",
      "Kết nối từ 127.0.0.1:55707\n"
     ]
    },
    {
     "ename": "ConnectionResetError",
     "evalue": "[WinError 10054] An existing connection was forcibly closed by the remote host",
     "output_type": "error",
     "traceback": [
      "\u001b[1;31m---------------------------------------------------------------------------\u001b[0m",
      "\u001b[1;31mConnectionResetError\u001b[0m                      Traceback (most recent call last)",
      "Cell \u001b[1;32mIn[1], line 36\u001b[0m\n\u001b[0;32m     33\u001b[0m                 client_socket\u001b[39m.\u001b[39msend(result\u001b[39m.\u001b[39mencode())\n\u001b[0;32m     35\u001b[0m \u001b[39mif\u001b[39;00m \u001b[39m__name__\u001b[39m \u001b[39m==\u001b[39m \u001b[39m\"\u001b[39m\u001b[39m__main__\u001b[39m\u001b[39m\"\u001b[39m:\n\u001b[1;32m---> 36\u001b[0m     main()\n",
      "Cell \u001b[1;32mIn[1], line 31\u001b[0m, in \u001b[0;36mmain\u001b[1;34m()\u001b[0m\n\u001b[0;32m     25\u001b[0m \u001b[39mprint\u001b[39m(\u001b[39mf\u001b[39m\u001b[39m\"\u001b[39m\u001b[39mKết nối từ \u001b[39m\u001b[39m{\u001b[39;00maddr[\u001b[39m0\u001b[39m]\u001b[39m}\u001b[39;00m\u001b[39m:\u001b[39m\u001b[39m{\u001b[39;00maddr[\u001b[39m1\u001b[39m]\u001b[39m}\u001b[39;00m\u001b[39m\"\u001b[39m)\n\u001b[0;32m     26\u001b[0m \u001b[39mwhile\u001b[39;00m \u001b[39mTrue\u001b[39;00m:\n\u001b[1;32m---> 31\u001b[0m         data \u001b[39m=\u001b[39m client_socket\u001b[39m.\u001b[39;49mrecv(\u001b[39m1024\u001b[39;49m)\u001b[39m.\u001b[39mdecode()\n\u001b[0;32m     32\u001b[0m         result \u001b[39m=\u001b[39m calculate_sum(data)\n\u001b[0;32m     33\u001b[0m         client_socket\u001b[39m.\u001b[39msend(result\u001b[39m.\u001b[39mencode())\n",
      "\u001b[1;31mConnectionResetError\u001b[0m: [WinError 10054] An existing connection was forcibly closed by the remote host"
     ]
    }
   ],
   "source": [
    "import socket\n",
    "\n",
    "\n",
    "def calculate_sum(data):\n",
    "    lines = data.split('\\n')  # Tách dữ liệu thành từng dòng\n",
    "    results = []\n",
    "    \n",
    "    for line in lines:\n",
    "        numbers = [int(num) for num in line.split()]  # Tách dòng thành các số\n",
    "        line_sum = sum(numbers)  # Tính tổng của dòng\n",
    "        results.append(str(line_sum))\n",
    "    \n",
    "    return '\\n'.join(results)  # Trả về kết quả dưới dạng chuỗi, mỗi kết quả trên một dòng\n",
    "def main():\n",
    "    server_ip = \"127.0.0.1\"  # Địa chỉ IP của server\n",
    "    server_port = 8889       # Cổng của server\n",
    "\n",
    "    server = socket.socket(socket.AF_INET, socket.SOCK_STREAM)\n",
    "    server.bind((server_ip, server_port))\n",
    "    server.listen(5)\n",
    "    print(\"Server đang lắng nghe...\")\n",
    "\n",
    "    while True:\n",
    "        client_socket, addr = server.accept()\n",
    "        print(f\"Kết nối từ {addr[0]}:{addr[1]}\")\n",
    "        while True:\n",
    "            \n",
    "\n",
    "            \n",
    "                \n",
    "                data = client_socket.recv(1024).decode()\n",
    "                result = calculate_sum(data)\n",
    "                client_socket.send(result.encode())\n",
    "            \n",
    "if __name__ == \"__main__\":\n",
    "    main()"
   ]
  }
 ],
 "metadata": {
  "kernelspec": {
   "display_name": "Python 3",
   "language": "python",
   "name": "python3"
  },
  "language_info": {
   "codemirror_mode": {
    "name": "ipython",
    "version": 3
   },
   "file_extension": ".py",
   "mimetype": "text/x-python",
   "name": "python",
   "nbconvert_exporter": "python",
   "pygments_lexer": "ipython3",
   "version": "3.11.5"
  },
  "orig_nbformat": 4
 },
 "nbformat": 4,
 "nbformat_minor": 2
}
